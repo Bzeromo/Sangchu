{
 "cells": [
  {
   "cell_type": "code",
   "execution_count": 1,
   "metadata": {},
   "outputs": [
    {
     "data": {
      "text/plain": [
       "(30948, 17)"
      ]
     },
     "execution_count": 1,
     "metadata": {},
     "output_type": "execute_result"
    }
   ],
   "source": [
    "# Install pip packages in the current Jupyter kernel\n",
    "\n",
    "import sys\n",
    "# !{sys.executable} -m pip install numpy\n",
    "# !{sys.executable} -m pip install pandas\n",
    "# !{sys.executable} -m pip install matplotlib==3.0.3\n",
    "# !{sys.executable} -m pip install seaborn\n",
    "import numpy as np\n",
    "import pandas as pd\n",
    "import matplotlib.pyplot as plt \n",
    "import seaborn as sns\n",
    "import json\n",
    "\n",
    "# 커널을 구성하다보면 에러는 아니지만, 빨간색 네모 박스 warning이 뜨는 경우를 제거 \n",
    "import warnings\n",
    "warnings.filterwarnings('ignore')\n",
    "\n",
    "# notebook을 실행한 브라우저에서 바로 그림을 볼 수 있게 해주는 라인\n",
    "%matplotlib inline\n",
    "# os 패키지를 통해 현재 디렉토리 위치를 변경하고, read_csv를 더 편리하게 함\n",
    "import os\n",
    "os.getcwd() # 현재 디렉토리 파악\n",
    "os.chdir(r\"D:\\heeju\\특화 프로젝트\\DataAnalysis\\DataSet\") # 불러오고 싶은 파일이 위치한 주소를 ___에 입력\n",
    "\n",
    "# 다른 노트북 작성할 때도 이 셀만 떼서 사용 가능하다.\n",
    "import matplotlib.pyplot as plt \n",
    "import platform                \n",
    "\n",
    "# 웬만하면 해주는 것이 좋다.\n",
    "from matplotlib import font_manager, rc\n",
    "plt.rcParams['axes.unicode_minus']= False\n",
    "\n",
    "if platform.system() == 'Darwin': # 맥os 사용자의 경우에\n",
    "    plt.style.use('seaborn-darkgrid') \n",
    "    rc('font', family = 'AppleGothic')\n",
    "    \n",
    "elif platform.system() == 'Windows':# 윈도우 사용자의 경우에\n",
    "    path = 'c:/Windows/Fonts/malgun.ttf'\n",
    "    font_name = font_manager.FontProperties(fname=path).get_name()\n",
    "    plt.style.use('seaborn-darkgrid') # https://python-graph-gallery.com/199-matplotlib-style-sheets/\n",
    "    rc('font', family=font_name)\n",
    "\n",
    "# 한글이 들어간 csv는 encoding 인자를 넣어주는 것이 좋음\n",
    "df=pd.read_csv(\"서울시 상권분석서비스(소득소비-상권).csv\",encoding='euc-kr') \n",
    "df.head()\n",
    "\n",
    "# 데이터 shape 파악\n",
    "df.shape"
   ]
  },
  {
   "cell_type": "code",
   "execution_count": 3,
   "metadata": {},
   "outputs": [],
   "source": [
    "# 기준_년분기_코드를 날짜 형식으로 변환\n",
    "df['기준_년분기_코드'] = pd.to_datetime(df['기준_년분기_코드'], format='%Y%m')\n",
    "\n",
    "# 새로운 년도 열 생성\n",
    "df['Year'] = df['기준_년분기_코드'].dt.year\n",
    "\n",
    "# 특정 상권 코드 설정\n",
    "target_market_code = 3110014\n",
    "\n",
    "# 특정 상권에 해당하는 데이터 필터링\n",
    "target_market_data = df[df['상권_코드'] == target_market_code]"
   ]
  },
  {
   "cell_type": "code",
   "execution_count": 9,
   "metadata": {},
   "outputs": [
    {
     "data": {
      "image/png": "[encoded data removed]",
      "text/plain": [
       "<Figure size 864x432 with 1 Axes>"
      ]
     },
     "metadata": {},
     "output_type": "display_data"
    }
   ],
   "source": [
    "# 지출 항목과 총금액 데이터 추출\n",
    "expenses_data = target_market_data[target_market_data['Year'] == 2023][['식료품_지출_총금액', '의류_신발_지출_총금액', '생활용품_지출_총금액', '의료비_지출_총금액',\n",
    "                    '교통_지출_총금액', '여가_지출_총금액', '문화_지출_총금액', '교육_지출_총금액', '유흥_지출_총금액']].mean()\n",
    "\n",
    "# 바 차트 그리기\n",
    "plt.figure(figsize=(12, 6))\n",
    "expenses_data.index = [item.split('_')[0] for item in expenses_data.index]  # '_'로 나누어 첫 번째 부분만 사용\n",
    "expenses_data.plot(kind='bar', color='skyblue')\n",
    "plt.title('지출 항목별 총금액')\n",
    "plt.xlabel('지출 항목')\n",
    "plt.ylabel('총금액')\n",
    "plt.xticks(rotation=0)\n",
    "plt.grid(axis='y')\n",
    "plt.show()"
   ]
  }
 ],
 "metadata": {
  "kernelspec": {
   "display_name": "Python 3",
   "language": "python",
   "name": "python3"
  },
  "language_info": {
   "codemirror_mode": {
    "name": "ipython",
    "version": 3
   },
   "file_extension": ".py",
   "mimetype": "text/x-python",
   "name": "python",
   "nbconvert_exporter": "python",
   "pygments_lexer": "ipython3",
   "version": "3.6.8"
  }
 },
 "nbformat": 4,
 "nbformat_minor": 2
}
