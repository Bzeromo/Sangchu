{
 "cells": [
  {
   "cell_type": "code",
   "execution_count": 13,
   "metadata": {},
   "outputs": [
    {
     "data": {
      "image/png": "[encoded data removed]",
      "text/plain": [
       "<Figure size 720x360 with 1 Axes>"
      ]
     },
     "metadata": {},
     "output_type": "display_data"
    }
   ],
   "source": [
    "# Install pip packages in the current Jupyter kernel\n",
    "\n",
    "import sys\n",
    "# !{sys.executable} -m pip install numpy\n",
    "# !{sys.executable} -m pip install pandas\n",
    "# !{sys.executable} -m pip install matplotlib==3.0.3\n",
    "# !{sys.executable} -m pip install seaborn\n",
    "import numpy as np\n",
    "import pandas as pd\n",
    "import matplotlib.pyplot as plt \n",
    "import seaborn as sns \n",
    "\n",
    "# 커널을 구성하다보면 에러는 아니지만, 빨간색 네모 박스 warning이 뜨는 경우를 제거 \n",
    "import warnings\n",
    "warnings.filterwarnings('ignore')\n",
    "\n",
    "# notebook을 실행한 브라우저에서 바로 그림을 볼 수 있게 해주는 라인\n",
    "%matplotlib inline\n",
    "# os 패키지를 통해 현재 디렉토리 위치를 변경하고, read_csv를 더 편리하게 함\n",
    "import os\n",
    "os.getcwd() # 현재 디렉토리 파악\n",
    "os.chdir(r\"D:\\heeju\\특화 프로젝트\\DataAnalysis\\file\") # 불러오고 싶은 파일이 위치한 주소를 ___에 입력\n",
    "\n",
    "# 다른 노트북 작성할 때도 이 셀만 떼서 사용 가능하다.\n",
    "import matplotlib.pyplot as plt \n",
    "import platform                \n",
    "\n",
    "# 웬만하면 해주는 것이 좋다.\n",
    "from matplotlib import font_manager, rc\n",
    "plt.rcParams['axes.unicode_minus']= False\n",
    "\n",
    "if platform.system() == 'Darwin': # 맥os 사용자의 경우에\n",
    "    plt.style.use('seaborn-darkgrid') \n",
    "    rc('font', family = 'AppleGothic')\n",
    "    \n",
    "elif platform.system() == 'Windows':# 윈도우 사용자의 경우에\n",
    "    path = 'c:/Windows/Fonts/malgun.ttf'\n",
    "    font_name = font_manager.FontProperties(fname=path).get_name()\n",
    "    plt.style.use('seaborn-darkgrid') # https://python-graph-gallery.com/199-matplotlib-style-sheets/\n",
    "    rc('font', family=font_name)\n",
    "\n",
    "# 한글이 들어간 csv는 encoding 인자를 넣어주는 것이 좋음\n",
    "df=pd.read_csv(\"서울시 상권분석서비스(점포-행정동).csv\",encoding='euc-kr') \n",
    "df.head()\n",
    "\n",
    "# 데이터 shape 파악\n",
    "df.shape\n"
   ]
  },
  {
   "cell_type": "code",
   "execution_count": 20,
   "metadata": {},
   "outputs": [
    {
     "data": {
      "text/html": [
       "<div>\n",
       "<style scoped>\n",
       "    .dataframe tbody tr th:only-of-type {\n",
       "        vertical-align: middle;\n",
       "    }\n",
       "\n",
       "    .dataframe tbody tr th {\n",
       "        vertical-align: top;\n",
       "    }\n",
       "\n",
       "    .dataframe thead th {\n",
       "        text-align: right;\n",
       "    }\n",
       "</style>\n",
       "<table border=\"1\" class=\"dataframe\">\n",
       "  <thead>\n",
       "    <tr style=\"text-align: right;\">\n",
       "      <th></th>\n",
       "      <th>점포_수</th>\n",
       "      <th>유사_업종_점포_수</th>\n",
       "      <th>개업_율</th>\n",
       "      <th>개업_점포_수</th>\n",
       "      <th>폐업_률</th>\n",
       "      <th>폐업_점포_수</th>\n",
       "      <th>프랜차이즈_점포_수</th>\n",
       "    </tr>\n",
       "  </thead>\n",
       "  <tbody>\n",
       "    <tr>\n",
       "      <th>count</th>\n",
       "      <td>105908.000000</td>\n",
       "      <td>105908.000000</td>\n",
       "      <td>105908.000000</td>\n",
       "      <td>105908.000000</td>\n",
       "      <td>105908.000000</td>\n",
       "      <td>105908.000000</td>\n",
       "      <td>105908.000000</td>\n",
       "    </tr>\n",
       "    <tr>\n",
       "      <th>mean</th>\n",
       "      <td>16.232334</td>\n",
       "      <td>17.499009</td>\n",
       "      <td>2.213950</td>\n",
       "      <td>0.386826</td>\n",
       "      <td>2.715262</td>\n",
       "      <td>0.498971</td>\n",
       "      <td>1.266675</td>\n",
       "    </tr>\n",
       "    <tr>\n",
       "      <th>std</th>\n",
       "      <td>59.043745</td>\n",
       "      <td>60.195313</td>\n",
       "      <td>7.680154</td>\n",
       "      <td>1.284714</td>\n",
       "      <td>9.434929</td>\n",
       "      <td>1.858825</td>\n",
       "      <td>4.981099</td>\n",
       "    </tr>\n",
       "    <tr>\n",
       "      <th>min</th>\n",
       "      <td>0.000000</td>\n",
       "      <td>0.000000</td>\n",
       "      <td>0.000000</td>\n",
       "      <td>0.000000</td>\n",
       "      <td>0.000000</td>\n",
       "      <td>0.000000</td>\n",
       "      <td>0.000000</td>\n",
       "    </tr>\n",
       "    <tr>\n",
       "      <th>25%</th>\n",
       "      <td>2.000000</td>\n",
       "      <td>3.000000</td>\n",
       "      <td>0.000000</td>\n",
       "      <td>0.000000</td>\n",
       "      <td>0.000000</td>\n",
       "      <td>0.000000</td>\n",
       "      <td>0.000000</td>\n",
       "    </tr>\n",
       "    <tr>\n",
       "      <th>50%</th>\n",
       "      <td>6.000000</td>\n",
       "      <td>6.000000</td>\n",
       "      <td>0.000000</td>\n",
       "      <td>0.000000</td>\n",
       "      <td>0.000000</td>\n",
       "      <td>0.000000</td>\n",
       "      <td>0.000000</td>\n",
       "    </tr>\n",
       "    <tr>\n",
       "      <th>75%</th>\n",
       "      <td>14.000000</td>\n",
       "      <td>15.000000</td>\n",
       "      <td>0.000000</td>\n",
       "      <td>0.000000</td>\n",
       "      <td>0.000000</td>\n",
       "      <td>0.000000</td>\n",
       "      <td>0.000000</td>\n",
       "    </tr>\n",
       "    <tr>\n",
       "      <th>max</th>\n",
       "      <td>6978.000000</td>\n",
       "      <td>6989.000000</td>\n",
       "      <td>100.000000</td>\n",
       "      <td>47.000000</td>\n",
       "      <td>200.000000</td>\n",
       "      <td>215.000000</td>\n",
       "      <td>176.000000</td>\n",
       "    </tr>\n",
       "  </tbody>\n",
       "</table>\n",
       "</div>"
      ],
      "text/plain": [
       "                점포_수     유사_업종_점포_수           개업_율        개업_점포_수  \\\n",
       "count  105908.000000  105908.000000  105908.000000  105908.000000   \n",
       "mean       16.232334      17.499009       2.213950       0.386826   \n",
       "std        59.043745      60.195313       7.680154       1.284714   \n",
       "min         0.000000       0.000000       0.000000       0.000000   \n",
       "25%         2.000000       3.000000       0.000000       0.000000   \n",
       "50%         6.000000       6.000000       0.000000       0.000000   \n",
       "75%        14.000000      15.000000       0.000000       0.000000   \n",
       "max      6978.000000    6989.000000     100.000000      47.000000   \n",
       "\n",
       "                폐업_률        폐업_점포_수     프랜차이즈_점포_수  \n",
       "count  105908.000000  105908.000000  105908.000000  \n",
       "mean        2.715262       0.498971       1.266675  \n",
       "std         9.434929       1.858825       4.981099  \n",
       "min         0.000000       0.000000       0.000000  \n",
       "25%         0.000000       0.000000       0.000000  \n",
       "50%         0.000000       0.000000       0.000000  \n",
       "75%         0.000000       0.000000       0.000000  \n",
       "max       200.000000     215.000000     176.000000  "
      ]
     },
     "execution_count": 20,
     "metadata": {},
     "output_type": "execute_result"
    }
   ],
   "source": [
    "# 데이터 통계량 파악\n",
    "df.describe()"
   ]
  },
  {
   "cell_type": "code",
   "execution_count": 19,
   "metadata": {},
   "outputs": [
    {
     "data": {
      "text/html": [
       "<div>\n",
       "<style scoped>\n",
       "    .dataframe tbody tr th:only-of-type {\n",
       "        vertical-align: middle;\n",
       "    }\n",
       "\n",
       "    .dataframe tbody tr th {\n",
       "        vertical-align: top;\n",
       "    }\n",
       "\n",
       "    .dataframe thead th {\n",
       "        text-align: right;\n",
       "    }\n",
       "</style>\n",
       "<table border=\"1\" class=\"dataframe\">\n",
       "  <thead>\n",
       "    <tr style=\"text-align: right;\">\n",
       "      <th></th>\n",
       "      <th>nan_count</th>\n",
       "    </tr>\n",
       "  </thead>\n",
       "  <tbody>\n",
       "    <tr>\n",
       "      <th>기준_년분기_코드</th>\n",
       "      <td>0</td>\n",
       "    </tr>\n",
       "    <tr>\n",
       "      <th>행정동_코드</th>\n",
       "      <td>0</td>\n",
       "    </tr>\n",
       "    <tr>\n",
       "      <th>행정동_코드_명</th>\n",
       "      <td>0</td>\n",
       "    </tr>\n",
       "    <tr>\n",
       "      <th>서비스_업종_코드</th>\n",
       "      <td>0</td>\n",
       "    </tr>\n",
       "    <tr>\n",
       "      <th>서비스_업종_코드_명</th>\n",
       "      <td>0</td>\n",
       "    </tr>\n",
       "    <tr>\n",
       "      <th>점포_수</th>\n",
       "      <td>0</td>\n",
       "    </tr>\n",
       "    <tr>\n",
       "      <th>유사_업종_점포_수</th>\n",
       "      <td>0</td>\n",
       "    </tr>\n",
       "    <tr>\n",
       "      <th>개업_율</th>\n",
       "      <td>0</td>\n",
       "    </tr>\n",
       "    <tr>\n",
       "      <th>개업_점포_수</th>\n",
       "      <td>0</td>\n",
       "    </tr>\n",
       "    <tr>\n",
       "      <th>폐업_률</th>\n",
       "      <td>0</td>\n",
       "    </tr>\n",
       "    <tr>\n",
       "      <th>폐업_점포_수</th>\n",
       "      <td>0</td>\n",
       "    </tr>\n",
       "    <tr>\n",
       "      <th>프랜차이즈_점포_수</th>\n",
       "      <td>0</td>\n",
       "    </tr>\n",
       "  </tbody>\n",
       "</table>\n",
       "</div>"
      ],
      "text/plain": [
       "             nan_count\n",
       "기준_년분기_코드            0\n",
       "행정동_코드               0\n",
       "행정동_코드_명             0\n",
       "서비스_업종_코드            0\n",
       "서비스_업종_코드_명          0\n",
       "점포_수                 0\n",
       "유사_업종_점포_수           0\n",
       "개업_율                 0\n",
       "개업_점포_수              0\n",
       "폐업_률                 0\n",
       "폐업_점포_수              0\n",
       "프랜차이즈_점포_수           0"
      ]
     },
     "execution_count": 19,
     "metadata": {},
     "output_type": "execute_result"
    }
   ],
   "source": [
    "# 결측치 개수 파악\n",
    "# 셀 실행 결과를 데이터프레임으로 보고 싶을 때 to_frame()과 pd.DataFrame() 두 가지를 사용 가능\n",
    "df.isnull().sum().to_frame('nan_count')\n"
   ]
  },
  {
   "cell_type": "code",
   "execution_count": 18,
   "metadata": {},
   "outputs": [
    {
     "data": {
      "text/html": [
       "<div>\n",
       "<style scoped>\n",
       "    .dataframe tbody tr th:only-of-type {\n",
       "        vertical-align: middle;\n",
       "    }\n",
       "\n",
       "    .dataframe tbody tr th {\n",
       "        vertical-align: top;\n",
       "    }\n",
       "\n",
       "    .dataframe thead th {\n",
       "        text-align: right;\n",
       "    }\n",
       "</style>\n",
       "<table border=\"1\" class=\"dataframe\">\n",
       "  <thead>\n",
       "    <tr style=\"text-align: right;\">\n",
       "      <th></th>\n",
       "      <th>nan_ratio</th>\n",
       "    </tr>\n",
       "  </thead>\n",
       "  <tbody>\n",
       "    <tr>\n",
       "      <th>기준_년분기_코드</th>\n",
       "      <td>0.0</td>\n",
       "    </tr>\n",
       "    <tr>\n",
       "      <th>행정동_코드</th>\n",
       "      <td>0.0</td>\n",
       "    </tr>\n",
       "    <tr>\n",
       "      <th>행정동_코드_명</th>\n",
       "      <td>0.0</td>\n",
       "    </tr>\n",
       "    <tr>\n",
       "      <th>서비스_업종_코드</th>\n",
       "      <td>0.0</td>\n",
       "    </tr>\n",
       "    <tr>\n",
       "      <th>서비스_업종_코드_명</th>\n",
       "      <td>0.0</td>\n",
       "    </tr>\n",
       "    <tr>\n",
       "      <th>점포_수</th>\n",
       "      <td>0.0</td>\n",
       "    </tr>\n",
       "    <tr>\n",
       "      <th>유사_업종_점포_수</th>\n",
       "      <td>0.0</td>\n",
       "    </tr>\n",
       "    <tr>\n",
       "      <th>개업_율</th>\n",
       "      <td>0.0</td>\n",
       "    </tr>\n",
       "    <tr>\n",
       "      <th>개업_점포_수</th>\n",
       "      <td>0.0</td>\n",
       "    </tr>\n",
       "    <tr>\n",
       "      <th>폐업_률</th>\n",
       "      <td>0.0</td>\n",
       "    </tr>\n",
       "    <tr>\n",
       "      <th>폐업_점포_수</th>\n",
       "      <td>0.0</td>\n",
       "    </tr>\n",
       "    <tr>\n",
       "      <th>프랜차이즈_점포_수</th>\n",
       "      <td>0.0</td>\n",
       "    </tr>\n",
       "  </tbody>\n",
       "</table>\n",
       "</div>"
      ],
      "text/plain": [
       "             nan_ratio\n",
       "기준_년분기_코드          0.0\n",
       "행정동_코드             0.0\n",
       "행정동_코드_명           0.0\n",
       "서비스_업종_코드          0.0\n",
       "서비스_업종_코드_명        0.0\n",
       "점포_수               0.0\n",
       "유사_업종_점포_수         0.0\n",
       "개업_율               0.0\n",
       "개업_점포_수            0.0\n",
       "폐업_률               0.0\n",
       "폐업_점포_수            0.0\n",
       "프랜차이즈_점포_수         0.0"
      ]
     },
     "execution_count": 18,
     "metadata": {},
     "output_type": "execute_result"
    }
   ],
   "source": [
    "# 결측치 비율 파악\n",
    "pd.DataFrame(data=df.isnull().sum()/len(df),columns=['nan_ratio'])"
   ]
  },
  {
   "cell_type": "code",
   "execution_count": 17,
   "metadata": {},
   "outputs": [
    {
     "data": {
      "text/plain": [
       "기준_년분기_코드      object\n",
       "행정동_코드         object\n",
       "행정동_코드_명       object\n",
       "서비스_업종_코드      object\n",
       "서비스_업종_코드_명    object\n",
       "점포_수            int64\n",
       "유사_업종_점포_수      int64\n",
       "개업_율            int64\n",
       "개업_점포_수         int64\n",
       "폐업_률            int64\n",
       "폐업_점포_수         int64\n",
       "프랜차이즈_점포_수      int64\n",
       "dtype: object"
      ]
     },
     "execution_count": 17,
     "metadata": {},
     "output_type": "execute_result"
    }
   ],
   "source": [
    "# 변수 타입 파악\n",
    "df.dtypes"
   ]
  },
  {
   "cell_type": "code",
   "execution_count": 16,
   "metadata": {},
   "outputs": [],
   "source": [
    "#범주형 변수 : 빈도(frequency) 계산 가능\n",
    "#연속형 변수 : 평균, 표준편차, 분산 등의 수학적 계산 가능\n",
    "df['기준_년분기_코드']=df['기준_년분기_코드'].astype(str)\n",
    "df['행정동_코드']=df['행정동_코드'].astype(str)"
   ]
  },
  {
   "cell_type": "code",
   "execution_count": 15,
   "metadata": {},
   "outputs": [
    {
     "data": {
      "text/plain": [
       "count    105908.000000\n",
       "mean         16.232334\n",
       "std          59.043745\n",
       "min           0.000000\n",
       "25%           2.000000\n",
       "50%           6.000000\n",
       "75%          14.000000\n",
       "max        6978.000000\n",
       "Name: 점포_수, dtype: float64"
      ]
     },
     "execution_count": 15,
     "metadata": {},
     "output_type": "execute_result"
    }
   ],
   "source": [
    "# 분석 결과의 이해를 돕기위해 데이터 단위를 바꿔줄 수도 있다.\n",
    "# 현재 예시 df에서 trip_duration은 second 단위여서 직관적으로 와닿지 않는다.\n",
    "# df['trip_duration_min']=df['trip_duration'] /60\n",
    "\n",
    "#통계량 파악\n",
    "df['점포_수'].describe()"
   ]
  },
  {
   "cell_type": "code",
   "execution_count": 14,
   "metadata": {},
   "outputs": [
    {
     "data": {
      "image/png": "[encoded data removed]",
      "text/plain": [
       "<Figure size 720x360 with 1 Axes>"
      ]
     },
     "metadata": {},
     "output_type": "display_data"
    }
   ],
   "source": [
    "# kdeplot\n",
    "# 빈 캔버스 사이즈 지정\n",
    "plt.figure(figsize=(10,5))\n",
    "\n",
    "# 캔버스에 그림 그리기\n",
    "kde=sns.kdeplot(df['점포_수']) \n",
    "kde.set_xlabel(\"점포 수\")\n",
    "kde.set_ylabel(\"비율\")\n",
    "\n",
    "# 다 그려진 캔버스 보여주기\n",
    "plt.show()"
   ]
  },
  {
   "cell_type": "code",
   "execution_count": 23,
   "metadata": {},
   "outputs": [
    {
     "data": {
      "image/png": "[encoded data removed]",
      "text/plain": [
       "<Figure size 720x360 with 1 Axes>"
      ]
     },
     "metadata": {},
     "output_type": "display_data"
    },
    {
     "name": "stdout",
     "output_type": "stream",
     "text": [
      "Skewness: 53.122408\n",
      "Kurtosis: 5321.453351\n"
     ]
    }
   ],
   "source": [
    "# distplot, shade 연한 하늘색 네모가 histogram입니다\n",
    "plt.figure(figsize=(10,5)) # 빈 캔버스 사이즈 지정\n",
    "dist=sns.distplot(df['점포_수']) # kde=False를 넣어보자\n",
    "dist.set_xlabel(\"점포_수\")\n",
    "dist.set_ylabel(\"비율\")\n",
    "plt.show() # 다 그려진 캔버스 보여주기\n",
    "\n",
    "#skewness and kurtosis\n",
    "print(\"Skewness: %f\" % df['점포_수'].skew())\n",
    "print(\"Kurtosis: %f\" % df['점포_수'].kurt())"
   ]
  },
  {
   "cell_type": "code",
   "execution_count": 34,
   "metadata": {},
   "outputs": [],
   "source": [
    "# 이상치를 제거\n",
    "# 상위 99% 값을 cut_point로 지정\n",
    "cut_point = df[\"점포_수\"].quantile(0.99)\n",
    "df_cut=df[df['점포_수'] < cut_point]"
   ]
  },
  {
   "cell_type": "code",
   "execution_count": 35,
   "metadata": {},
   "outputs": [
    {
     "data": {
      "image/png": "[encoded data removed]",
      "text/plain": [
       "<Figure size 720x360 with 1 Axes>"
      ]
     },
     "metadata": {},
     "output_type": "display_data"
    }
   ],
   "source": [
    "# 단순 pandas visualization 활용!\n",
    "plt.figure(figsize=(10,5))\n",
    "df_cut['점포_수'].hist()\n",
    "plt.show()"
   ]
  },
  {
   "cell_type": "code",
   "execution_count": 38,
   "metadata": {},
   "outputs": [
    {
     "data": {
      "image/png": "[encoded data removed]",
      "text/plain": [
       "<Figure size 720x360 with 1 Axes>"
      ]
     },
     "metadata": {},
     "output_type": "display_data"
    },
    {
     "name": "stdout",
     "output_type": "stream",
     "text": [
      "눈에 띄는 치우침 정도가 있는가 Skewness: 53.122408\n",
      "얼마나 뾰족한가 Kurtosis: 5321.453351\n"
     ]
    }
   ],
   "source": [
    "# seaborn의 distplot, shade 연한 하늘색 네모가 histogram\n",
    "plt.figure(figsize=(10,5)) # 빈 캔버스 사이즈 지정\n",
    "dist=sns.distplot(df_cut['점포_수'],kde=False) # kde=False를 넣어보자\n",
    "dist.set_xlabel(\"점포_수\")\n",
    "dist.set_ylabel(\"비율\")\n",
    "plt.show() # 다 그려진 캔버스 보여주기\n",
    "\n",
    "#skewness and kurtosis\n",
    "print(\"눈에 띄는 치우침 정도가 있는가 Skewness: %f\" % df['점포_수'].skew())\n",
    "print(\"얼마나 뾰족한가 Kurtosis: %f\" % df['점포_수'].kurt())"
   ]
  }
 ],
 "metadata": {
  "kernelspec": {
   "display_name": "Python 3",
   "language": "python",
   "name": "python3"
  },
  "language_info": {
   "codemirror_mode": {
    "name": "ipython",
    "version": 3
   },
   "file_extension": ".py",
   "mimetype": "text/x-python",
   "name": "python",
   "nbconvert_exporter": "python",
   "pygments_lexer": "ipython3",
   "version": "3.6.8"
  }
 },
 "nbformat": 4,
 "nbformat_minor": 2
}
